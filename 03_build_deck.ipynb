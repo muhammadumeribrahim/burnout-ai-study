{
 "cells": [
  {
   "cell_type": "code",
   "execution_count": 1,
   "id": "e0ef1897-43ef-4b69-9359-618834aefab2",
   "metadata": {},
   "outputs": [
    {
     "ename": "FileNotFoundError",
     "evalue": "[Errno 2] No such file or directory: '../overall_burnout_vs_ai.png'",
     "output_type": "error",
     "traceback": [
      "\u001b[31m---------------------------------------------------------------------------\u001b[39m",
      "\u001b[31mFileNotFoundError\u001b[39m                         Traceback (most recent call last)",
      "\u001b[36mCell\u001b[39m\u001b[36m \u001b[39m\u001b[32mIn[1]\u001b[39m\u001b[32m, line 14\u001b[39m\n\u001b[32m     12\u001b[39m \u001b[38;5;66;03m# 3) insert the overall chart image you saved earlier\u001b[39;00m\n\u001b[32m     13\u001b[39m img_path = \u001b[33m\"\u001b[39m\u001b[33m../overall_burnout_vs_ai.png\u001b[39m\u001b[33m\"\u001b[39m     \u001b[38;5;66;03m# adjust if notebook is in project root\u001b[39;00m\n\u001b[32m---> \u001b[39m\u001b[32m14\u001b[39m \u001b[43mslide\u001b[49m\u001b[43m.\u001b[49m\u001b[43mshapes\u001b[49m\u001b[43m.\u001b[49m\u001b[43madd_picture\u001b[49m\u001b[43m(\u001b[49m\u001b[43mimg_path\u001b[49m\u001b[43m,\u001b[49m\u001b[43m \u001b[49m\u001b[43mInches\u001b[49m\u001b[43m(\u001b[49m\u001b[32;43m1\u001b[39;49m\u001b[43m)\u001b[49m\u001b[43m,\u001b[49m\u001b[43m \u001b[49m\u001b[43mInches\u001b[49m\u001b[43m(\u001b[49m\u001b[32;43m1.5\u001b[39;49m\u001b[43m)\u001b[49m\u001b[43m,\u001b[49m\u001b[43m \u001b[49m\u001b[43mwidth\u001b[49m\u001b[43m=\u001b[49m\u001b[43mInches\u001b[49m\u001b[43m(\u001b[49m\u001b[32;43m8\u001b[39;49m\u001b[43m)\u001b[49m\u001b[43m)\u001b[49m\n\u001b[32m     16\u001b[39m \u001b[38;5;66;03m# 4) bullet summary\u001b[39;00m\n\u001b[32m     17\u001b[39m txBox = slide.shapes.add_textbox(Inches(\u001b[32m0.8\u001b[39m), Inches(\u001b[32m5\u001b[39m), Inches(\u001b[32m8\u001b[39m), Inches(\u001b[32m2\u001b[39m))\n",
      "\u001b[36mFile \u001b[39m\u001b[32m~\\Desktop\\burnout-ai-study\\venv\\Lib\\site-packages\\pptx\\shapes\\shapetree.py:370\u001b[39m, in \u001b[36m_BaseGroupShapes.add_picture\u001b[39m\u001b[34m(self, image_file, left, top, width, height)\u001b[39m\n\u001b[32m    353\u001b[39m \u001b[38;5;28;01mdef\u001b[39;00m\u001b[38;5;250m \u001b[39m\u001b[34madd_picture\u001b[39m(\n\u001b[32m    354\u001b[39m     \u001b[38;5;28mself\u001b[39m,\n\u001b[32m    355\u001b[39m     image_file: \u001b[38;5;28mstr\u001b[39m | IO[\u001b[38;5;28mbytes\u001b[39m],\n\u001b[32m   (...)\u001b[39m\u001b[32m    359\u001b[39m     height: Length | \u001b[38;5;28;01mNone\u001b[39;00m = \u001b[38;5;28;01mNone\u001b[39;00m,\n\u001b[32m    360\u001b[39m ) -> Picture:\n\u001b[32m    361\u001b[39m \u001b[38;5;250m    \u001b[39m\u001b[33;03m\"\"\"Add picture shape displaying image in `image_file`.\u001b[39;00m\n\u001b[32m    362\u001b[39m \n\u001b[32m    363\u001b[39m \u001b[33;03m    `image_file` can be either a path to a file (a string) or a file-like object. The picture\u001b[39;00m\n\u001b[32m   (...)\u001b[39m\u001b[32m    368\u001b[39m \u001b[33;03m    aspect ratio.\u001b[39;00m\n\u001b[32m    369\u001b[39m \u001b[33;03m    \"\"\"\u001b[39;00m\n\u001b[32m--> \u001b[39m\u001b[32m370\u001b[39m     image_part, rId = \u001b[38;5;28;43mself\u001b[39;49m\u001b[43m.\u001b[49m\u001b[43mpart\u001b[49m\u001b[43m.\u001b[49m\u001b[43mget_or_add_image_part\u001b[49m\u001b[43m(\u001b[49m\u001b[43mimage_file\u001b[49m\u001b[43m)\u001b[49m\n\u001b[32m    371\u001b[39m     pic = \u001b[38;5;28mself\u001b[39m._add_pic_from_image_part(image_part, rId, left, top, width, height)\n\u001b[32m    372\u001b[39m     \u001b[38;5;28mself\u001b[39m._recalculate_extents()\n",
      "\u001b[36mFile \u001b[39m\u001b[32m~\\Desktop\\burnout-ai-study\\venv\\Lib\\site-packages\\pptx\\parts\\slide.py:50\u001b[39m, in \u001b[36mBaseSlidePart.get_or_add_image_part\u001b[39m\u001b[34m(self, image_file)\u001b[39m\n\u001b[32m     43\u001b[39m \u001b[38;5;28;01mdef\u001b[39;00m\u001b[38;5;250m \u001b[39m\u001b[34mget_or_add_image_part\u001b[39m(\u001b[38;5;28mself\u001b[39m, image_file: \u001b[38;5;28mstr\u001b[39m | IO[\u001b[38;5;28mbytes\u001b[39m]):\n\u001b[32m     44\u001b[39m \u001b[38;5;250m    \u001b[39m\u001b[33;03m\"\"\"Return `(image_part, rId)` pair corresponding to `image_file`.\u001b[39;00m\n\u001b[32m     45\u001b[39m \n\u001b[32m     46\u001b[39m \u001b[33;03m    The returned |ImagePart| object contains the image in `image_file` and is\u001b[39;00m\n\u001b[32m     47\u001b[39m \u001b[33;03m    related to this slide with the key `rId`. If either the image part or\u001b[39;00m\n\u001b[32m     48\u001b[39m \u001b[33;03m    relationship already exists, they are reused, otherwise they are newly created.\u001b[39;00m\n\u001b[32m     49\u001b[39m \u001b[33;03m    \"\"\"\u001b[39;00m\n\u001b[32m---> \u001b[39m\u001b[32m50\u001b[39m     image_part = \u001b[38;5;28;43mself\u001b[39;49m\u001b[43m.\u001b[49m\u001b[43m_package\u001b[49m\u001b[43m.\u001b[49m\u001b[43mget_or_add_image_part\u001b[49m\u001b[43m(\u001b[49m\u001b[43mimage_file\u001b[49m\u001b[43m)\u001b[49m\n\u001b[32m     51\u001b[39m     rId = \u001b[38;5;28mself\u001b[39m.relate_to(image_part, RT.IMAGE)\n\u001b[32m     52\u001b[39m     \u001b[38;5;28;01mreturn\u001b[39;00m image_part, rId\n",
      "\u001b[36mFile \u001b[39m\u001b[32m~\\Desktop\\burnout-ai-study\\venv\\Lib\\site-packages\\pptx\\package.py:38\u001b[39m, in \u001b[36mPackage.get_or_add_image_part\u001b[39m\u001b[34m(self, image_file)\u001b[39m\n\u001b[32m     32\u001b[39m \u001b[38;5;28;01mdef\u001b[39;00m\u001b[38;5;250m \u001b[39m\u001b[34mget_or_add_image_part\u001b[39m(\u001b[38;5;28mself\u001b[39m, image_file: \u001b[38;5;28mstr\u001b[39m | IO[\u001b[38;5;28mbytes\u001b[39m]):\n\u001b[32m     33\u001b[39m \u001b[38;5;250m    \u001b[39m\u001b[33;03m\"\"\"\u001b[39;00m\n\u001b[32m     34\u001b[39m \u001b[33;03m    Return an |ImagePart| object containing the image in *image_file*. If\u001b[39;00m\n\u001b[32m     35\u001b[39m \u001b[33;03m    the image part already exists in this package, it is reused,\u001b[39;00m\n\u001b[32m     36\u001b[39m \u001b[33;03m    otherwise a new one is created.\u001b[39;00m\n\u001b[32m     37\u001b[39m \u001b[33;03m    \"\"\"\u001b[39;00m\n\u001b[32m---> \u001b[39m\u001b[32m38\u001b[39m     \u001b[38;5;28;01mreturn\u001b[39;00m \u001b[38;5;28;43mself\u001b[39;49m\u001b[43m.\u001b[49m\u001b[43m_image_parts\u001b[49m\u001b[43m.\u001b[49m\u001b[43mget_or_add_image_part\u001b[49m\u001b[43m(\u001b[49m\u001b[43mimage_file\u001b[49m\u001b[43m)\u001b[49m\n",
      "\u001b[36mFile \u001b[39m\u001b[32m~\\Desktop\\burnout-ai-study\\venv\\Lib\\site-packages\\pptx\\package.py:153\u001b[39m, in \u001b[36m_ImageParts.get_or_add_image_part\u001b[39m\u001b[34m(self, image_file)\u001b[39m\n\u001b[32m    146\u001b[39m \u001b[38;5;28;01mdef\u001b[39;00m\u001b[38;5;250m \u001b[39m\u001b[34mget_or_add_image_part\u001b[39m(\u001b[38;5;28mself\u001b[39m, image_file: \u001b[38;5;28mstr\u001b[39m | IO[\u001b[38;5;28mbytes\u001b[39m]) -> ImagePart:\n\u001b[32m    147\u001b[39m \u001b[38;5;250m    \u001b[39m\u001b[33;03m\"\"\"Return |ImagePart| object containing the image in `image_file`.\u001b[39;00m\n\u001b[32m    148\u001b[39m \n\u001b[32m    149\u001b[39m \u001b[33;03m    `image_file` can be either a path to an image file or a file-like object\u001b[39;00m\n\u001b[32m    150\u001b[39m \u001b[33;03m    containing an image. If an image part containing this same image already exists,\u001b[39;00m\n\u001b[32m    151\u001b[39m \u001b[33;03m    that instance is returned, otherwise a new image part is created.\u001b[39;00m\n\u001b[32m    152\u001b[39m \u001b[33;03m    \"\"\"\u001b[39;00m\n\u001b[32m--> \u001b[39m\u001b[32m153\u001b[39m     image = \u001b[43mImage\u001b[49m\u001b[43m.\u001b[49m\u001b[43mfrom_file\u001b[49m\u001b[43m(\u001b[49m\u001b[43mimage_file\u001b[49m\u001b[43m)\u001b[49m\n\u001b[32m    154\u001b[39m     image_part = \u001b[38;5;28mself\u001b[39m._find_by_sha1(image.sha1)\n\u001b[32m    155\u001b[39m     \u001b[38;5;28;01mreturn\u001b[39;00m image_part \u001b[38;5;28;01mif\u001b[39;00m image_part \u001b[38;5;28;01melse\u001b[39;00m ImagePart.new(\u001b[38;5;28mself\u001b[39m._package, image)\n",
      "\u001b[36mFile \u001b[39m\u001b[32m~\\Desktop\\burnout-ai-study\\venv\\Lib\\site-packages\\pptx\\parts\\image.py:163\u001b[39m, in \u001b[36mImage.from_file\u001b[39m\u001b[34m(cls, image_file)\u001b[39m\n\u001b[32m    157\u001b[39m \u001b[38;5;250m\u001b[39m\u001b[33;03m\"\"\"Return a new |Image| object loaded from `image_file`.\u001b[39;00m\n\u001b[32m    158\u001b[39m \n\u001b[32m    159\u001b[39m \u001b[33;03m`image_file` can be either a path (str) or a file-like object.\u001b[39;00m\n\u001b[32m    160\u001b[39m \u001b[33;03m\"\"\"\u001b[39;00m\n\u001b[32m    161\u001b[39m \u001b[38;5;28;01mif\u001b[39;00m \u001b[38;5;28misinstance\u001b[39m(image_file, \u001b[38;5;28mstr\u001b[39m):\n\u001b[32m    162\u001b[39m     \u001b[38;5;66;03m# treat image_file as a path\u001b[39;00m\n\u001b[32m--> \u001b[39m\u001b[32m163\u001b[39m     \u001b[38;5;28;01mwith\u001b[39;00m \u001b[38;5;28;43mopen\u001b[39;49m\u001b[43m(\u001b[49m\u001b[43mimage_file\u001b[49m\u001b[43m,\u001b[49m\u001b[43m \u001b[49m\u001b[33;43m\"\u001b[39;49m\u001b[33;43mrb\u001b[39;49m\u001b[33;43m\"\u001b[39;49m\u001b[43m)\u001b[49m \u001b[38;5;28;01mas\u001b[39;00m f:\n\u001b[32m    164\u001b[39m         blob = f.read()\n\u001b[32m    165\u001b[39m     filename = os.path.basename(image_file)\n",
      "\u001b[31mFileNotFoundError\u001b[39m: [Errno 2] No such file or directory: '../overall_burnout_vs_ai.png'"
     ]
    }
   ],
   "source": [
    "from pptx import Presentation\n",
    "from pptx.util import Inches, Pt\n",
    "\n",
    "# 1) start a blank deck\n",
    "prs = Presentation()\n",
    "\n",
    "# 2) add a title-only slide\n",
    "slide_layout = prs.slide_layouts[5]           # title only\n",
    "slide = prs.slides.add_slide(slide_layout)\n",
    "slide.shapes.title.text = \"AI Tools & Developer Burnout (SO 2024)\"\n",
    "\n",
    "# 3) insert the overall chart image you saved earlier\n",
    "img_path = \"../overall_burnout_vs_ai.png\"     # adjust if notebook is in project root\n",
    "slide.shapes.add_picture(img_path, Inches(1), Inches(1.5), width=Inches(8))\n",
    "\n",
    "# 4) bullet summary\n",
    "txBox = slide.shapes.add_textbox(Inches(0.8), Inches(5), Inches(8), Inches(2))\n",
    "tf = txBox.text_frame\n",
    "for line in [\n",
    "    \"Full-time developers · 39 K responses\",\n",
    "    \"Using ≥1 AI tool coincides with ~1 pp lower burnout\"\n",
    "]:\n",
    "    p = tf.add_paragraph()\n",
    "    p.text = line\n",
    "    p.font.size = Pt(18)\n",
    "\n",
    "# 5) save the draft deck\n",
    "prs.save(\"AI_Burnout_Insights.pptx\")\n",
    "print(\"✅ Slide 1 created – file saved as AI_Burnout_Insights.pptx\")\n"
   ]
  },
  {
   "cell_type": "code",
   "execution_count": 2,
   "id": "32e19340-1269-4135-a8c5-80170d8ecb84",
   "metadata": {},
   "outputs": [
    {
     "name": "stdout",
     "output_type": "stream",
     "text": [
      "[WindowsPath('overall_burnout_vs_ai.png')]\n"
     ]
    }
   ],
   "source": [
    "import pathlib as pl\n",
    "print(list(pl.Path(\".\").rglob(\"overall_burnout_vs_ai.png\")))\n",
    "\n"
   ]
  },
  {
   "cell_type": "code",
   "execution_count": 3,
   "id": "3118c6e5-133c-4714-bdea-d06303671daf",
   "metadata": {},
   "outputs": [
    {
     "name": "stdout",
     "output_type": "stream",
     "text": [
      "✅  Slide 1 created – file saved as AI_Burnout_Insights.pptx\n"
     ]
    }
   ],
   "source": [
    "from pptx import Presentation\n",
    "from pptx.util import Inches, Pt\n",
    "\n",
    "# 1) start a blank deck\n",
    "prs = Presentation()\n",
    "\n",
    "# 2) add a title-only slide\n",
    "slide_layout = prs.slide_layouts[5]        # title-only layout\n",
    "slide = prs.slides.add_slide(slide_layout)\n",
    "slide.shapes.title.text = \"AI Tools & Developer Burnout (SO 2024)\"\n",
    "\n",
    "# 3) insert the chart image (same folder as this notebook)\n",
    "img_path = \"overall_burnout_vs_ai.png\"\n",
    "slide.shapes.add_picture(img_path, Inches(1), Inches(1.5), width=Inches(8))\n",
    "\n",
    "# 4) add two bullet points\n",
    "tx_box = slide.shapes.add_textbox(Inches(0.8), Inches(5), Inches(8), Inches(2))\n",
    "tf = tx_box.text_frame\n",
    "for line in [\n",
    "    \"Full-time developers · 39 K responses\",\n",
    "    \"Using ≥1 AI tool coincides with ~1 pp lower burnout\"\n",
    "]:\n",
    "    p = tf.add_paragraph()\n",
    "    p.text = line\n",
    "    p.font.size = Pt(18)\n",
    "\n",
    "# 5) save the draft deck\n",
    "prs.save(\"AI_Burnout_Insights.pptx\")\n",
    "print(\"✅  Slide 1 created – file saved as AI_Burnout_Insights.pptx\")\n"
   ]
  },
  {
   "cell_type": "code",
   "execution_count": 4,
   "id": "8bf5a6f6-64b4-4a79-8f51-d5d4d63cf97e",
   "metadata": {},
   "outputs": [
    {
     "name": "stdout",
     "output_type": "stream",
     "text": [
      "✅  Slide 2 added and deck updated\n"
     ]
    }
   ],
   "source": [
    "from pptx import Presentation\n",
    "from pptx.util import Inches, Pt\n",
    "\n",
    "# 1) load the deck we just saved\n",
    "prs = Presentation(\"AI_Burnout_Insights.pptx\")\n",
    "\n",
    "# 2) add another title-only slide\n",
    "slide_layout = prs.slide_layouts[5]\n",
    "slide = prs.slides.add_slide(slide_layout)\n",
    "slide.shapes.title.text = \"Remote & Hybrid See the Benefit\"\n",
    "\n",
    "# 3) insert the work-mode chart image (same folder as notebook)\n",
    "img_path = \"burnout_by_workmode.png\"\n",
    "slide.shapes.add_picture(img_path, Inches(1), Inches(1.5), width=Inches(8))\n",
    "\n",
    "# 4) bullet summary\n",
    "tx_box = slide.shapes.add_textbox(Inches(0.8), Inches(5), Inches(8), Inches(2))\n",
    "tf = tx_box.text_frame\n",
    "for line in [\n",
    "    \"Remote/hybrid: −1½ pp burnout\",\n",
    "    \"In-office: slight ↑ (+0.6 pp)\"\n",
    "]:\n",
    "    p = tf.add_paragraph()\n",
    "    p.text = line\n",
    "    p.font.size = Pt(18)\n",
    "\n",
    "# 5) save the updated deck\n",
    "prs.save(\"AI_Burnout_Insights.pptx\")\n",
    "print(\"✅  Slide 2 added and deck updated\")\n"
   ]
  },
  {
   "cell_type": "code",
   "execution_count": 5,
   "id": "7ccac47f-74ee-4193-ba2c-fdc9afedc630",
   "metadata": {},
   "outputs": [
    {
     "name": "stdout",
     "output_type": "stream",
     "text": [
      "✅  Slide 3 added – deck complete!\n"
     ]
    }
   ],
   "source": [
    "from pptx import Presentation\n",
    "from pptx.util import Inches, Pt\n",
    "\n",
    "# 1) open the deck we’ve been updating\n",
    "prs = Presentation(\"AI_Burnout_Insights.pptx\")\n",
    "\n",
    "# 2) add a title-only slide\n",
    "slide_layout = prs.slide_layouts[5]          # title only\n",
    "slide = prs.slides.add_slide(slide_layout)\n",
    "slide.shapes.title.text = \"In-Office Developers – Who Benefits?\"\n",
    "\n",
    "# 3) add bullet points summarizing the table\n",
    "bullet_lines = [\n",
    "    \"18 – 24 yrs: 16.5 % ➔ 14.6 %  (−1.9 pp)\",\n",
    "    \"45 – 54 yrs: 9.5 % ➔  7.0 %  (−2.5 pp)\",\n",
    "    \"25 – 44 yrs: no clear benefit\",\n",
    "]\n",
    "\n",
    "tx = slide.shapes.add_textbox(Inches(0.8), Inches(1.8), Inches(8), Inches(4))\n",
    "tf = tx.text_frame\n",
    "for line in bullet_lines:\n",
    "    p = tf.add_paragraph()\n",
    "    p.text = line\n",
    "    p.font.size = Pt(18)\n",
    "\n",
    "# 4) save the updated deck\n",
    "prs.save(\"AI_Burnout_Insights.pptx\")\n",
    "print(\"✅  Slide 3 added – deck complete!\")\n"
   ]
  },
  {
   "cell_type": "code",
   "execution_count": null,
   "id": "cdaa0bf7-bf3c-4a0c-b7a1-f5f961352939",
   "metadata": {},
   "outputs": [],
   "source": []
  }
 ],
 "metadata": {
  "kernelspec": {
   "display_name": "Python 3 (ipykernel)",
   "language": "python",
   "name": "python3"
  },
  "language_info": {
   "codemirror_mode": {
    "name": "ipython",
    "version": 3
   },
   "file_extension": ".py",
   "mimetype": "text/x-python",
   "name": "python",
   "nbconvert_exporter": "python",
   "pygments_lexer": "ipython3",
   "version": "3.13.5"
  }
 },
 "nbformat": 4,
 "nbformat_minor": 5
}
